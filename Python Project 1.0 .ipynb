{
 "cells": [
  {
   "cell_type": "code",
   "execution_count": 1,
   "metadata": {},
   "outputs": [
    {
     "name": "stdout",
     "output_type": "stream",
     "text": [
      "Enter the name of the student: Lokesh\n",
      "Enter the standard: 10th\n",
      "Enter the divsion: B\n",
      "Enter the roll number: 73\n",
      "Enter the marks in Mathematics: 82\n",
      "Enter the marks in Biology: 80\n",
      "Enter the marks in History: 90\n"
     ]
    }
   ],
   "source": [
    "#Taking input from user\n",
    "name = input(\"Enter the name of the student: \")\n",
    "std = input(\"Enter the standard: \")\n",
    "div = input(\"Enter the divsion: \")\n",
    "rollNo = int(input(\"Enter the roll number: \"))\n",
    "maths = int(input(\"Enter the marks in Mathematics: \"))\n",
    "bio = int(input(\"Enter the marks in Biology: \"))\n",
    "his = int(input(\"Enter the marks in History: \"))"
   ]
  },
  {
   "cell_type": "code",
   "execution_count": 2,
   "metadata": {},
   "outputs": [
    {
     "name": "stdout",
     "output_type": "stream",
     "text": [
      "Name of the student:  Lokesh\n",
      "Class:  10th  -  B\n",
      "Roll number:  73\n",
      "Mathematics:  82 \n",
      "Biology:  80 \n",
      "History:  90\n",
      "Total:  252 /300\n"
     ]
    }
   ],
   "source": [
    "#Printing output\n",
    "print(\"Name of the student: \",name)\n",
    "print(\"Class: \",std,\" - \",div)\n",
    "print(\"Roll number: \",rollNo)\n",
    "print(\"Mathematics: \",maths,\"\\nBiology: \",bio,\"\\nHistory: \",his)\n",
    "print(\"Total: \",maths+bio+his,\"/300\")"
   ]
  }
 ],
 "metadata": {
  "kernelspec": {
   "display_name": "Python 3",
   "language": "python",
   "name": "python3"
  },
  "language_info": {
   "codemirror_mode": {
    "name": "ipython",
    "version": 3
   },
   "file_extension": ".py",
   "mimetype": "text/x-python",
   "name": "python",
   "nbconvert_exporter": "python",
   "pygments_lexer": "ipython3",
   "version": "3.8.3"
  }
 },
 "nbformat": 4,
 "nbformat_minor": 4
}
